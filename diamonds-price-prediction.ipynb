{
 "cells": [
  {
   "cell_type": "markdown",
   "id": "29b99c37",
   "metadata": {
    "id": "89ea6b28",
    "papermill": {
     "duration": 0.008484,
     "end_time": "2024-05-16T16:52:16.506717",
     "exception": false,
     "start_time": "2024-05-16T16:52:16.498233",
     "status": "completed"
    },
    "tags": []
   },
   "source": [
    "## import libraries"
   ]
  },
  {
   "cell_type": "code",
   "execution_count": 1,
   "id": "7c7fb1f7",
   "metadata": {
    "executionInfo": {
     "elapsed": 5930,
     "status": "ok",
     "timestamp": 1715616169361,
     "user": {
      "displayName": "Mannar Mohamed",
      "userId": "05054921162374819918"
     },
     "user_tz": -180
    },
    "id": "a4540197",
    "papermill": {
     "duration": 2.84278,
     "end_time": "2024-05-16T16:52:19.357738",
     "exception": false,
     "start_time": "2024-05-16T16:52:16.514958",
     "status": "completed"
    },
    "tags": []
   },
   "outputs": [
    {
     "ename": "ModuleNotFoundError",
     "evalue": "No module named 'xgboost'",
     "output_type": "error",
     "traceback": [
      "\u001b[1;31m---------------------------------------------------------------------------\u001b[0m",
      "\u001b[1;31mModuleNotFoundError\u001b[0m                       Traceback (most recent call last)",
      "Cell \u001b[1;32mIn[1], line 11\u001b[0m\n\u001b[0;32m      9\u001b[0m \u001b[38;5;28;01mfrom\u001b[39;00m \u001b[38;5;21;01msklearn\u001b[39;00m\u001b[38;5;21;01m.\u001b[39;00m\u001b[38;5;21;01mlinear_model\u001b[39;00m \u001b[38;5;28;01mimport\u001b[39;00m LinearRegression\n\u001b[0;32m     10\u001b[0m \u001b[38;5;28;01mfrom\u001b[39;00m \u001b[38;5;21;01msklearn\u001b[39;00m\u001b[38;5;21;01m.\u001b[39;00m\u001b[38;5;21;01mensemble\u001b[39;00m \u001b[38;5;28;01mimport\u001b[39;00m RandomForestRegressor\n\u001b[1;32m---> 11\u001b[0m \u001b[38;5;28;01mfrom\u001b[39;00m \u001b[38;5;21;01mxgboost\u001b[39;00m \u001b[38;5;28;01mimport\u001b[39;00m XGBRegressor\n\u001b[0;32m     12\u001b[0m \u001b[38;5;28;01mfrom\u001b[39;00m \u001b[38;5;21;01msklearn\u001b[39;00m\u001b[38;5;21;01m.\u001b[39;00m\u001b[38;5;21;01msvm\u001b[39;00m \u001b[38;5;28;01mimport\u001b[39;00m SVR\n\u001b[0;32m     13\u001b[0m \u001b[38;5;28;01mfrom\u001b[39;00m \u001b[38;5;21;01msklearn\u001b[39;00m\u001b[38;5;21;01m.\u001b[39;00m\u001b[38;5;21;01mmetrics\u001b[39;00m \u001b[38;5;28;01mimport\u001b[39;00m mean_squared_error\n",
      "\u001b[1;31mModuleNotFoundError\u001b[0m: No module named 'xgboost'"
     ]
    }
   ],
   "source": [
    "import pandas as pd\n",
    "import numpy as np\n",
    "import matplotlib.pyplot as plt\n",
    "import seaborn as sns\n",
    "import warnings\n",
    "warnings.filterwarnings('ignore')\n",
    "from sklearn.preprocessing import LabelEncoder\n",
    "from sklearn.model_selection import train_test_split,GridSearchCV,cross_val_score,KFold\n",
    "from sklearn.linear_model import LinearRegression\n",
    "from sklearn.ensemble import RandomForestRegressor\n",
    "from xgboost import XGBRegressor\n",
    "from sklearn.svm import SVR\n",
    "from sklearn.metrics import mean_squared_error\n",
    "color_palette=sns.color_palette\n",
    "plt.style.use('fivethirtyeight')"
   ]
  },
  {
   "cell_type": "code",
   "execution_count": null,
   "id": "2bd7b6ca-f7bf-47ec-b08e-00cfdce0232d",
   "metadata": {
    "tags": []
   },
   "outputs": [],
   "source": [
    "!pip install xgboost"
   ]
  },
  {
   "cell_type": "code",
   "execution_count": null,
   "id": "5750cd33",
   "metadata": {
    "executionInfo": {
     "elapsed": 3229,
     "status": "ok",
     "timestamp": 1715616177808,
     "user": {
      "displayName": "Mannar Mohamed",
      "userId": "05054921162374819918"
     },
     "user_tz": -180
    },
    "id": "RCPN6WbzYxVq",
    "papermill": {
     "duration": 0.132482,
     "end_time": "2024-05-16T16:52:19.499102",
     "exception": false,
     "start_time": "2024-05-16T16:52:19.366620",
     "status": "completed"
    },
    "tags": []
   },
   "outputs": [],
   "source": [
    "train=pd.read_csv('train.csv')\n",
    "test=pd.read_csv('test.csv')\n",
    "train.head(3)"
   ]
  },
  {
   "cell_type": "markdown",
   "id": "5ddc6219",
   "metadata": {
    "id": "6a0efb1f",
    "papermill": {
     "duration": 0.007844,
     "end_time": "2024-05-16T16:52:19.515248",
     "exception": false,
     "start_time": "2024-05-16T16:52:19.507404",
     "status": "completed"
    },
    "tags": []
   },
   "source": [
    "## data preprocessing"
   ]
  },
  {
   "cell_type": "code",
   "execution_count": 3,
   "id": "1006f14e",
   "metadata": {
    "execution": {
     "iopub.execute_input": "2024-05-16T16:52:19.534483Z",
     "iopub.status.busy": "2024-05-16T16:52:19.534106Z",
     "iopub.status.idle": "2024-05-16T16:52:19.558995Z",
     "shell.execute_reply": "2024-05-16T16:52:19.557881Z"
    },
    "executionInfo": {
     "elapsed": 5,
     "status": "ok",
     "timestamp": 1715535786177,
     "user": {
      "displayName": "Mannar Mohamed",
      "userId": "05054921162374819918"
     },
     "user_tz": -180
    },
    "id": "7bc1d071",
    "outputId": "c8de7a41-a3ff-443a-c678-59fdf2a61a68",
    "papermill": {
     "duration": 0.036915,
     "end_time": "2024-05-16T16:52:19.561455",
     "exception": false,
     "start_time": "2024-05-16T16:52:19.524540",
     "status": "completed"
    },
    "tags": []
   },
   "outputs": [
    {
     "data": {
      "text/plain": [
       "Id         0\n",
       "carat      0\n",
       "cut        0\n",
       "color      0\n",
       "clarity    0\n",
       "depth      0\n",
       "table      0\n",
       "price      0\n",
       "x          0\n",
       "y          0\n",
       "z          0\n",
       "dtype: int64"
      ]
     },
     "execution_count": 3,
     "metadata": {},
     "output_type": "execute_result"
    }
   ],
   "source": [
    "#check missing values\n",
    "data.isnull().sum()"
   ]
  },
  {
   "cell_type": "code",
   "execution_count": 4,
   "id": "483afc2a",
   "metadata": {
    "execution": {
     "iopub.execute_input": "2024-05-16T16:52:19.580103Z",
     "iopub.status.busy": "2024-05-16T16:52:19.579723Z",
     "iopub.status.idle": "2024-05-16T16:52:19.611091Z",
     "shell.execute_reply": "2024-05-16T16:52:19.609945Z"
    },
    "executionInfo": {
     "elapsed": 5,
     "status": "ok",
     "timestamp": 1715535786178,
     "user": {
      "displayName": "Mannar Mohamed",
      "userId": "05054921162374819918"
     },
     "user_tz": -180
    },
    "id": "1efd6b0f",
    "outputId": "a7b774a5-4454-4b6d-8ba7-741eb9d00cab",
    "papermill": {
     "duration": 0.043518,
     "end_time": "2024-05-16T16:52:19.613541",
     "exception": false,
     "start_time": "2024-05-16T16:52:19.570023",
     "status": "completed"
    },
    "tags": []
   },
   "outputs": [
    {
     "data": {
      "text/plain": [
       "0"
      ]
     },
     "execution_count": 4,
     "metadata": {},
     "output_type": "execute_result"
    }
   ],
   "source": [
    "#check duplicates\n",
    "data.duplicated().sum()"
   ]
  },
  {
   "cell_type": "code",
   "execution_count": 5,
   "id": "a78dad36",
   "metadata": {
    "execution": {
     "iopub.execute_input": "2024-05-16T16:52:19.632995Z",
     "iopub.status.busy": "2024-05-16T16:52:19.632008Z",
     "iopub.status.idle": "2024-05-16T16:52:19.641352Z",
     "shell.execute_reply": "2024-05-16T16:52:19.640379Z"
    },
    "executionInfo": {
     "elapsed": 3,
     "status": "ok",
     "timestamp": 1715535786178,
     "user": {
      "displayName": "Mannar Mohamed",
      "userId": "05054921162374819918"
     },
     "user_tz": -180
    },
    "id": "12b42a8c",
    "outputId": "b088a00e-d4fa-4f21-ed21-178c57add772",
    "papermill": {
     "duration": 0.021303,
     "end_time": "2024-05-16T16:52:19.643503",
     "exception": false,
     "start_time": "2024-05-16T16:52:19.622200",
     "status": "completed"
    },
    "tags": []
   },
   "outputs": [
    {
     "data": {
      "text/plain": [
       "Id           int64\n",
       "carat      float64\n",
       "cut         object\n",
       "color       object\n",
       "clarity     object\n",
       "depth      float64\n",
       "table      float64\n",
       "price        int64\n",
       "x          float64\n",
       "y          float64\n",
       "z          float64\n",
       "dtype: object"
      ]
     },
     "execution_count": 5,
     "metadata": {},
     "output_type": "execute_result"
    }
   ],
   "source": [
    "data.dtypes"
   ]
  },
  {
   "cell_type": "code",
   "execution_count": 6,
   "id": "8ac03ddc",
   "metadata": {
    "execution": {
     "iopub.execute_input": "2024-05-16T16:52:19.663060Z",
     "iopub.status.busy": "2024-05-16T16:52:19.662684Z",
     "iopub.status.idle": "2024-05-16T16:52:19.669336Z",
     "shell.execute_reply": "2024-05-16T16:52:19.668116Z"
    },
    "executionInfo": {
     "elapsed": 419,
     "status": "ok",
     "timestamp": 1715616191009,
     "user": {
      "displayName": "Mannar Mohamed",
      "userId": "05054921162374819918"
     },
     "user_tz": -180
    },
    "id": "9e7493ce",
    "papermill": {
     "duration": 0.019682,
     "end_time": "2024-05-16T16:52:19.671961",
     "exception": false,
     "start_time": "2024-05-16T16:52:19.652279",
     "status": "completed"
    },
    "tags": []
   },
   "outputs": [],
   "source": [
    "data2=data.copy()"
   ]
  },
  {
   "cell_type": "code",
   "execution_count": 7,
   "id": "613c9681",
   "metadata": {
    "execution": {
     "iopub.execute_input": "2024-05-16T16:52:19.691404Z",
     "iopub.status.busy": "2024-05-16T16:52:19.691035Z",
     "iopub.status.idle": "2024-05-16T16:52:19.696014Z",
     "shell.execute_reply": "2024-05-16T16:52:19.694805Z"
    },
    "executionInfo": {
     "elapsed": 2,
     "status": "ok",
     "timestamp": 1715616192332,
     "user": {
      "displayName": "Mannar Mohamed",
      "userId": "05054921162374819918"
     },
     "user_tz": -180
    },
    "id": "d8960119",
    "papermill": {
     "duration": 0.017425,
     "end_time": "2024-05-16T16:52:19.698407",
     "exception": false,
     "start_time": "2024-05-16T16:52:19.680982",
     "status": "completed"
    },
    "tags": []
   },
   "outputs": [],
   "source": [
    "encoder=LabelEncoder()\n"
   ]
  },
  {
   "cell_type": "code",
   "execution_count": 8,
   "id": "32efcda0",
   "metadata": {
    "execution": {
     "iopub.execute_input": "2024-05-16T16:52:19.731610Z",
     "iopub.status.busy": "2024-05-16T16:52:19.718649Z",
     "iopub.status.idle": "2024-05-16T16:52:19.778526Z",
     "shell.execute_reply": "2024-05-16T16:52:19.777414Z"
    },
    "executionInfo": {
     "elapsed": 2,
     "status": "ok",
     "timestamp": 1715616194016,
     "user": {
      "displayName": "Mannar Mohamed",
      "userId": "05054921162374819918"
     },
     "user_tz": -180
    },
    "id": "9cc0ecef",
    "papermill": {
     "duration": 0.074045,
     "end_time": "2024-05-16T16:52:19.781450",
     "exception": false,
     "start_time": "2024-05-16T16:52:19.707405",
     "status": "completed"
    },
    "tags": []
   },
   "outputs": [],
   "source": [
    "data2['cut']=encoder.fit_transform(data2['cut'])\n",
    "data2['color']=encoder.fit_transform(data2['color'])\n",
    "data2['clarity']=encoder.fit_transform(data2['clarity'])"
   ]
  },
  {
   "cell_type": "code",
   "execution_count": 9,
   "id": "6ea1d591",
   "metadata": {
    "execution": {
     "iopub.execute_input": "2024-05-16T16:52:19.801790Z",
     "iopub.status.busy": "2024-05-16T16:52:19.801337Z",
     "iopub.status.idle": "2024-05-16T16:52:19.830879Z",
     "shell.execute_reply": "2024-05-16T16:52:19.829882Z"
    },
    "executionInfo": {
     "elapsed": 7,
     "status": "ok",
     "timestamp": 1715535786608,
     "user": {
      "displayName": "Mannar Mohamed",
      "userId": "05054921162374819918"
     },
     "user_tz": -180
    },
    "id": "16ffd90d",
    "outputId": "3132763a-228e-4149-adf4-5d591333e876",
    "papermill": {
     "duration": 0.042372,
     "end_time": "2024-05-16T16:52:19.833317",
     "exception": false,
     "start_time": "2024-05-16T16:52:19.790945",
     "status": "completed"
    },
    "tags": []
   },
   "outputs": [
    {
     "data": {
      "text/html": [
       "<div>\n",
       "<style scoped>\n",
       "    .dataframe tbody tr th:only-of-type {\n",
       "        vertical-align: middle;\n",
       "    }\n",
       "\n",
       "    .dataframe tbody tr th {\n",
       "        vertical-align: top;\n",
       "    }\n",
       "\n",
       "    .dataframe thead th {\n",
       "        text-align: right;\n",
       "    }\n",
       "</style>\n",
       "<table border=\"1\" class=\"dataframe\">\n",
       "  <thead>\n",
       "    <tr style=\"text-align: right;\">\n",
       "      <th></th>\n",
       "      <th>Id</th>\n",
       "      <th>carat</th>\n",
       "      <th>cut</th>\n",
       "      <th>color</th>\n",
       "      <th>clarity</th>\n",
       "      <th>depth</th>\n",
       "      <th>table</th>\n",
       "      <th>price</th>\n",
       "      <th>x</th>\n",
       "      <th>y</th>\n",
       "      <th>z</th>\n",
       "    </tr>\n",
       "  </thead>\n",
       "  <tbody>\n",
       "    <tr>\n",
       "      <th>0</th>\n",
       "      <td>1</td>\n",
       "      <td>1.06</td>\n",
       "      <td>2</td>\n",
       "      <td>5</td>\n",
       "      <td>3</td>\n",
       "      <td>61.8</td>\n",
       "      <td>57.0</td>\n",
       "      <td>4270</td>\n",
       "      <td>6.57</td>\n",
       "      <td>6.60</td>\n",
       "      <td>4.07</td>\n",
       "    </tr>\n",
       "    <tr>\n",
       "      <th>1</th>\n",
       "      <td>2</td>\n",
       "      <td>1.51</td>\n",
       "      <td>3</td>\n",
       "      <td>3</td>\n",
       "      <td>7</td>\n",
       "      <td>60.9</td>\n",
       "      <td>58.0</td>\n",
       "      <td>15164</td>\n",
       "      <td>7.38</td>\n",
       "      <td>7.42</td>\n",
       "      <td>4.51</td>\n",
       "    </tr>\n",
       "    <tr>\n",
       "      <th>2</th>\n",
       "      <td>3</td>\n",
       "      <td>0.32</td>\n",
       "      <td>2</td>\n",
       "      <td>2</td>\n",
       "      <td>5</td>\n",
       "      <td>61.3</td>\n",
       "      <td>56.0</td>\n",
       "      <td>828</td>\n",
       "      <td>4.43</td>\n",
       "      <td>4.41</td>\n",
       "      <td>2.71</td>\n",
       "    </tr>\n",
       "    <tr>\n",
       "      <th>3</th>\n",
       "      <td>4</td>\n",
       "      <td>0.53</td>\n",
       "      <td>2</td>\n",
       "      <td>3</td>\n",
       "      <td>5</td>\n",
       "      <td>61.2</td>\n",
       "      <td>56.0</td>\n",
       "      <td>1577</td>\n",
       "      <td>5.19</td>\n",
       "      <td>5.22</td>\n",
       "      <td>3.19</td>\n",
       "    </tr>\n",
       "    <tr>\n",
       "      <th>4</th>\n",
       "      <td>5</td>\n",
       "      <td>0.70</td>\n",
       "      <td>3</td>\n",
       "      <td>4</td>\n",
       "      <td>7</td>\n",
       "      <td>61.0</td>\n",
       "      <td>57.0</td>\n",
       "      <td>2596</td>\n",
       "      <td>5.76</td>\n",
       "      <td>5.72</td>\n",
       "      <td>3.50</td>\n",
       "    </tr>\n",
       "    <tr>\n",
       "      <th>...</th>\n",
       "      <td>...</td>\n",
       "      <td>...</td>\n",
       "      <td>...</td>\n",
       "      <td>...</td>\n",
       "      <td>...</td>\n",
       "      <td>...</td>\n",
       "      <td>...</td>\n",
       "      <td>...</td>\n",
       "      <td>...</td>\n",
       "      <td>...</td>\n",
       "      <td>...</td>\n",
       "    </tr>\n",
       "    <tr>\n",
       "      <th>43147</th>\n",
       "      <td>43148</td>\n",
       "      <td>0.52</td>\n",
       "      <td>2</td>\n",
       "      <td>1</td>\n",
       "      <td>5</td>\n",
       "      <td>61.5</td>\n",
       "      <td>56.0</td>\n",
       "      <td>1760</td>\n",
       "      <td>5.16</td>\n",
       "      <td>5.18</td>\n",
       "      <td>3.18</td>\n",
       "    </tr>\n",
       "    <tr>\n",
       "      <th>43148</th>\n",
       "      <td>43149</td>\n",
       "      <td>0.72</td>\n",
       "      <td>4</td>\n",
       "      <td>0</td>\n",
       "      <td>5</td>\n",
       "      <td>62.1</td>\n",
       "      <td>59.0</td>\n",
       "      <td>3016</td>\n",
       "      <td>5.70</td>\n",
       "      <td>5.73</td>\n",
       "      <td>3.55</td>\n",
       "    </tr>\n",
       "    <tr>\n",
       "      <th>43149</th>\n",
       "      <td>43150</td>\n",
       "      <td>0.44</td>\n",
       "      <td>3</td>\n",
       "      <td>5</td>\n",
       "      <td>6</td>\n",
       "      <td>61.5</td>\n",
       "      <td>58.0</td>\n",
       "      <td>990</td>\n",
       "      <td>4.95</td>\n",
       "      <td>4.87</td>\n",
       "      <td>3.02</td>\n",
       "    </tr>\n",
       "    <tr>\n",
       "      <th>43150</th>\n",
       "      <td>43151</td>\n",
       "      <td>0.31</td>\n",
       "      <td>3</td>\n",
       "      <td>1</td>\n",
       "      <td>4</td>\n",
       "      <td>60.2</td>\n",
       "      <td>58.0</td>\n",
       "      <td>734</td>\n",
       "      <td>4.38</td>\n",
       "      <td>4.43</td>\n",
       "      <td>2.65</td>\n",
       "    </tr>\n",
       "    <tr>\n",
       "      <th>43151</th>\n",
       "      <td>43152</td>\n",
       "      <td>0.33</td>\n",
       "      <td>2</td>\n",
       "      <td>3</td>\n",
       "      <td>5</td>\n",
       "      <td>61.2</td>\n",
       "      <td>55.0</td>\n",
       "      <td>743</td>\n",
       "      <td>4.49</td>\n",
       "      <td>4.46</td>\n",
       "      <td>2.74</td>\n",
       "    </tr>\n",
       "  </tbody>\n",
       "</table>\n",
       "<p>43152 rows × 11 columns</p>\n",
       "</div>"
      ],
      "text/plain": [
       "          Id  carat  cut  color  clarity  depth  table  price     x     y  \\\n",
       "0          1   1.06    2      5        3   61.8   57.0   4270  6.57  6.60   \n",
       "1          2   1.51    3      3        7   60.9   58.0  15164  7.38  7.42   \n",
       "2          3   0.32    2      2        5   61.3   56.0    828  4.43  4.41   \n",
       "3          4   0.53    2      3        5   61.2   56.0   1577  5.19  5.22   \n",
       "4          5   0.70    3      4        7   61.0   57.0   2596  5.76  5.72   \n",
       "...      ...    ...  ...    ...      ...    ...    ...    ...   ...   ...   \n",
       "43147  43148   0.52    2      1        5   61.5   56.0   1760  5.16  5.18   \n",
       "43148  43149   0.72    4      0        5   62.1   59.0   3016  5.70  5.73   \n",
       "43149  43150   0.44    3      5        6   61.5   58.0    990  4.95  4.87   \n",
       "43150  43151   0.31    3      1        4   60.2   58.0    734  4.38  4.43   \n",
       "43151  43152   0.33    2      3        5   61.2   55.0    743  4.49  4.46   \n",
       "\n",
       "          z  \n",
       "0      4.07  \n",
       "1      4.51  \n",
       "2      2.71  \n",
       "3      3.19  \n",
       "4      3.50  \n",
       "...     ...  \n",
       "43147  3.18  \n",
       "43148  3.55  \n",
       "43149  3.02  \n",
       "43150  2.65  \n",
       "43151  2.74  \n",
       "\n",
       "[43152 rows x 11 columns]"
      ]
     },
     "execution_count": 9,
     "metadata": {},
     "output_type": "execute_result"
    }
   ],
   "source": [
    "data2"
   ]
  },
  {
   "cell_type": "markdown",
   "id": "1f3042bd",
   "metadata": {
    "id": "53b56dcb",
    "papermill": {
     "duration": 0.008927,
     "end_time": "2024-05-16T16:52:19.851676",
     "exception": false,
     "start_time": "2024-05-16T16:52:19.842749",
     "status": "completed"
    },
    "tags": []
   },
   "source": [
    "## Split data"
   ]
  },
  {
   "cell_type": "code",
   "execution_count": 10,
   "id": "944eea68",
   "metadata": {
    "execution": {
     "iopub.execute_input": "2024-05-16T16:52:19.871856Z",
     "iopub.status.busy": "2024-05-16T16:52:19.871418Z",
     "iopub.status.idle": "2024-05-16T16:52:19.878323Z",
     "shell.execute_reply": "2024-05-16T16:52:19.877353Z"
    },
    "executionInfo": {
     "elapsed": 280,
     "status": "ok",
     "timestamp": 1715616200639,
     "user": {
      "displayName": "Mannar Mohamed",
      "userId": "05054921162374819918"
     },
     "user_tz": -180
    },
    "id": "7217a613",
    "papermill": {
     "duration": 0.019587,
     "end_time": "2024-05-16T16:52:19.880565",
     "exception": false,
     "start_time": "2024-05-16T16:52:19.860978",
     "status": "completed"
    },
    "tags": []
   },
   "outputs": [],
   "source": [
    "X=data2.drop(['Id','price'],axis=1)\n",
    "y=data2['price']\n",
    "\n",
    "X"
   ]
  },
  {
   "cell_type": "markdown",
   "id": "d13de3b9",
   "metadata": {
    "id": "d71d894d",
    "papermill": {
     "duration": 0.009634,
     "end_time": "2024-05-16T16:52:19.899767",
     "exception": false,
     "start_time": "2024-05-16T16:52:19.890133",
     "status": "completed"
    },
    "tags": []
   },
   "source": [
    "## Split Features and Target"
   ]
  },
  {
   "cell_type": "code",
   "execution_count": 11,
   "id": "38ba0ca5",
   "metadata": {
    "execution": {
     "iopub.execute_input": "2024-05-16T16:52:19.920234Z",
     "iopub.status.busy": "2024-05-16T16:52:19.919865Z",
     "iopub.status.idle": "2024-05-16T16:52:19.935756Z",
     "shell.execute_reply": "2024-05-16T16:52:19.934525Z"
    },
    "executionInfo": {
     "elapsed": 3,
     "status": "ok",
     "timestamp": 1715616204275,
     "user": {
      "displayName": "Mannar Mohamed",
      "userId": "05054921162374819918"
     },
     "user_tz": -180
    },
    "id": "a7ce4dde",
    "papermill": {
     "duration": 0.029175,
     "end_time": "2024-05-16T16:52:19.938380",
     "exception": false,
     "start_time": "2024-05-16T16:52:19.909205",
     "status": "completed"
    },
    "tags": []
   },
   "outputs": [],
   "source": [
    "x_train,x_test,y_train,y_test=train_test_split(X,y,test_size=0.2,random_state=42)"
   ]
  },
  {
   "cell_type": "code",
   "execution_count": 12,
   "id": "790cd9f3",
   "metadata": {
    "execution": {
     "iopub.execute_input": "2024-05-16T16:52:19.959086Z",
     "iopub.status.busy": "2024-05-16T16:52:19.958686Z",
     "iopub.status.idle": "2024-05-16T16:52:19.965782Z",
     "shell.execute_reply": "2024-05-16T16:52:19.964772Z"
    },
    "executionInfo": {
     "elapsed": 3,
     "status": "ok",
     "timestamp": 1715591269489,
     "user": {
      "displayName": "Mannar Mohamed",
      "userId": "05054921162374819918"
     },
     "user_tz": -180
    },
    "id": "7f834db9",
    "outputId": "547022e4-27d5-43e1-a747-5ec47683de84",
    "papermill": {
     "duration": 0.019923,
     "end_time": "2024-05-16T16:52:19.967876",
     "exception": false,
     "start_time": "2024-05-16T16:52:19.947953",
     "status": "completed"
    },
    "tags": []
   },
   "outputs": [
    {
     "data": {
      "text/plain": [
       "((34521, 9), (8631, 9))"
      ]
     },
     "execution_count": 12,
     "metadata": {},
     "output_type": "execute_result"
    }
   ],
   "source": [
    "x_train.shape,x_test.shape"
   ]
  },
  {
   "cell_type": "markdown",
   "id": "83236d5c",
   "metadata": {
    "id": "c65554d2",
    "papermill": {
     "duration": 0.009279,
     "end_time": "2024-05-16T16:52:19.986675",
     "exception": false,
     "start_time": "2024-05-16T16:52:19.977396",
     "status": "completed"
    },
    "tags": []
   },
   "source": [
    "## Model Building & Validation"
   ]
  },
  {
   "cell_type": "code",
   "execution_count": 13,
   "id": "cdf6de81",
   "metadata": {
    "execution": {
     "iopub.execute_input": "2024-05-16T16:52:20.008180Z",
     "iopub.status.busy": "2024-05-16T16:52:20.007780Z",
     "iopub.status.idle": "2024-05-16T16:52:20.013330Z",
     "shell.execute_reply": "2024-05-16T16:52:20.012196Z"
    },
    "executionInfo": {
     "elapsed": 329,
     "status": "ok",
     "timestamp": 1715616228248,
     "user": {
      "displayName": "Mannar Mohamed",
      "userId": "05054921162374819918"
     },
     "user_tz": -180
    },
    "id": "01b030b7",
    "papermill": {
     "duration": 0.019476,
     "end_time": "2024-05-16T16:52:20.015705",
     "exception": false,
     "start_time": "2024-05-16T16:52:19.996229",
     "status": "completed"
    },
    "tags": []
   },
   "outputs": [],
   "source": [
    "models={'Linear regression':LinearRegression(),'Random forest':RandomForestRegressor(),'XGboost':XGBRegressor()}\n",
    "kf=KFold(n_splits=6,shuffle=True,random_state=21)"
   ]
  },
  {
   "cell_type": "code",
   "execution_count": 14,
   "id": "94eea3a0",
   "metadata": {
    "execution": {
     "iopub.execute_input": "2024-05-16T16:52:20.036852Z",
     "iopub.status.busy": "2024-05-16T16:52:20.036449Z",
     "iopub.status.idle": "2024-05-16T16:53:36.071102Z",
     "shell.execute_reply": "2024-05-16T16:53:36.070203Z"
    },
    "executionInfo": {
     "elapsed": 91086,
     "status": "ok",
     "timestamp": 1715591367001,
     "user": {
      "displayName": "Mannar Mohamed",
      "userId": "05054921162374819918"
     },
     "user_tz": -180
    },
    "id": "79a72c05",
    "outputId": "156e8415-773a-4107-d226-87e054f28e5c",
    "papermill": {
     "duration": 76.048157,
     "end_time": "2024-05-16T16:53:36.073540",
     "exception": false,
     "start_time": "2024-05-16T16:52:20.025383",
     "status": "completed"
    },
    "tags": []
   },
   "outputs": [
    {
     "name": "stdout",
     "output_type": "stream",
     "text": [
      "Linear regression\n",
      "scores:[1366.55418201 1336.80125652 1411.64077361 1368.29667521 1351.60909155\n",
      " 1350.08433025]\n",
      "mean score:1364.1643848604187\n",
      "std score:23.73962427128133\n",
      "**********\n",
      "Random forest\n",
      "scores:[558.84028903 547.91237095 580.60699021 633.45497176 555.40737744\n",
      " 558.08171948]\n",
      "mean score:572.3839531439098\n",
      "std score:29.07557633903721\n",
      "**********\n",
      "XGboost\n",
      "scores:[533.09640995 538.53640731 584.29337853 601.81922794 548.88400255\n",
      " 563.74602041]\n",
      "mean score:561.7292411166558\n",
      "std score:24.641298173629128\n",
      "**********\n"
     ]
    }
   ],
   "source": [
    "for name,model in models.items():\n",
    "    cross_scores = cross_val_score(model,x_train,y_train,cv=kf,scoring='neg_mean_squared_error')\n",
    "    rmse=np.sqrt(-cross_scores)\n",
    "    print(f'{name}')\n",
    "    print(f'scores:{rmse}')\n",
    "    print(f'mean score:{np.mean(rmse)}')\n",
    "    print(f'std score:{np.std(rmse)}')\n",
    "    print('*'*10)\n"
   ]
  },
  {
   "cell_type": "markdown",
   "id": "5657ed6c",
   "metadata": {
    "id": "76a681dc",
    "papermill": {
     "duration": 0.009562,
     "end_time": "2024-05-16T16:53:36.093031",
     "exception": false,
     "start_time": "2024-05-16T16:53:36.083469",
     "status": "completed"
    },
    "tags": []
   },
   "source": [
    "## Fine tune hyperparamters"
   ]
  },
  {
   "cell_type": "code",
   "execution_count": 15,
   "id": "2d9c9b00",
   "metadata": {
    "execution": {
     "iopub.execute_input": "2024-05-16T16:53:36.114263Z",
     "iopub.status.busy": "2024-05-16T16:53:36.113896Z",
     "iopub.status.idle": "2024-05-16T16:53:36.119336Z",
     "shell.execute_reply": "2024-05-16T16:53:36.118157Z"
    },
    "executionInfo": {
     "elapsed": 272,
     "status": "ok",
     "timestamp": 1715616218775,
     "user": {
      "displayName": "Mannar Mohamed",
      "userId": "05054921162374819918"
     },
     "user_tz": -180
    },
    "id": "8dc4ebae",
    "papermill": {
     "duration": 0.018661,
     "end_time": "2024-05-16T16:53:36.121553",
     "exception": false,
     "start_time": "2024-05-16T16:53:36.102892",
     "status": "completed"
    },
    "tags": []
   },
   "outputs": [],
   "source": [
    "model=XGBRegressor()\n",
    "param_grid = {\n",
    "    'learning_rate': [0.01, 0.1, 0.2],   #(528.9905435926516, 413.0295749427162)test,train\n",
    "    'max_depth': [3, 4, 5,7],            #cv=6\n",
    "    'n_estimators': [30, 50, 100]\n",
    "}\n",
    "\n"
   ]
  },
  {
   "cell_type": "code",
   "execution_count": 16,
   "id": "059e3e4e",
   "metadata": {
    "execution": {
     "iopub.execute_input": "2024-05-16T16:53:36.143518Z",
     "iopub.status.busy": "2024-05-16T16:53:36.143144Z",
     "iopub.status.idle": "2024-05-16T16:54:11.535469Z",
     "shell.execute_reply": "2024-05-16T16:54:11.534340Z"
    },
    "executionInfo": {
     "elapsed": 72862,
     "status": "ok",
     "timestamp": 1715616308217,
     "user": {
      "displayName": "Mannar Mohamed",
      "userId": "05054921162374819918"
     },
     "user_tz": -180
    },
    "id": "07b1d868",
    "outputId": "cc704380-857e-4de9-e98b-66ba6f0b2424",
    "papermill": {
     "duration": 35.416268,
     "end_time": "2024-05-16T16:54:11.547759",
     "exception": false,
     "start_time": "2024-05-16T16:53:36.131491",
     "status": "completed"
    },
    "tags": []
   },
   "outputs": [
    {
     "data": {
      "text/html": [
       "<style>#sk-container-id-1 {color: black;background-color: white;}#sk-container-id-1 pre{padding: 0;}#sk-container-id-1 div.sk-toggleable {background-color: white;}#sk-container-id-1 label.sk-toggleable__label {cursor: pointer;display: block;width: 100%;margin-bottom: 0;padding: 0.3em;box-sizing: border-box;text-align: center;}#sk-container-id-1 label.sk-toggleable__label-arrow:before {content: \"▸\";float: left;margin-right: 0.25em;color: #696969;}#sk-container-id-1 label.sk-toggleable__label-arrow:hover:before {color: black;}#sk-container-id-1 div.sk-estimator:hover label.sk-toggleable__label-arrow:before {color: black;}#sk-container-id-1 div.sk-toggleable__content {max-height: 0;max-width: 0;overflow: hidden;text-align: left;background-color: #f0f8ff;}#sk-container-id-1 div.sk-toggleable__content pre {margin: 0.2em;color: black;border-radius: 0.25em;background-color: #f0f8ff;}#sk-container-id-1 input.sk-toggleable__control:checked~div.sk-toggleable__content {max-height: 200px;max-width: 100%;overflow: auto;}#sk-container-id-1 input.sk-toggleable__control:checked~label.sk-toggleable__label-arrow:before {content: \"▾\";}#sk-container-id-1 div.sk-estimator input.sk-toggleable__control:checked~label.sk-toggleable__label {background-color: #d4ebff;}#sk-container-id-1 div.sk-label input.sk-toggleable__control:checked~label.sk-toggleable__label {background-color: #d4ebff;}#sk-container-id-1 input.sk-hidden--visually {border: 0;clip: rect(1px 1px 1px 1px);clip: rect(1px, 1px, 1px, 1px);height: 1px;margin: -1px;overflow: hidden;padding: 0;position: absolute;width: 1px;}#sk-container-id-1 div.sk-estimator {font-family: monospace;background-color: #f0f8ff;border: 1px dotted black;border-radius: 0.25em;box-sizing: border-box;margin-bottom: 0.5em;}#sk-container-id-1 div.sk-estimator:hover {background-color: #d4ebff;}#sk-container-id-1 div.sk-parallel-item::after {content: \"\";width: 100%;border-bottom: 1px solid gray;flex-grow: 1;}#sk-container-id-1 div.sk-label:hover label.sk-toggleable__label {background-color: #d4ebff;}#sk-container-id-1 div.sk-serial::before {content: \"\";position: absolute;border-left: 1px solid gray;box-sizing: border-box;top: 0;bottom: 0;left: 50%;z-index: 0;}#sk-container-id-1 div.sk-serial {display: flex;flex-direction: column;align-items: center;background-color: white;padding-right: 0.2em;padding-left: 0.2em;position: relative;}#sk-container-id-1 div.sk-item {position: relative;z-index: 1;}#sk-container-id-1 div.sk-parallel {display: flex;align-items: stretch;justify-content: center;background-color: white;position: relative;}#sk-container-id-1 div.sk-item::before, #sk-container-id-1 div.sk-parallel-item::before {content: \"\";position: absolute;border-left: 1px solid gray;box-sizing: border-box;top: 0;bottom: 0;left: 50%;z-index: -1;}#sk-container-id-1 div.sk-parallel-item {display: flex;flex-direction: column;z-index: 1;position: relative;background-color: white;}#sk-container-id-1 div.sk-parallel-item:first-child::after {align-self: flex-end;width: 50%;}#sk-container-id-1 div.sk-parallel-item:last-child::after {align-self: flex-start;width: 50%;}#sk-container-id-1 div.sk-parallel-item:only-child::after {width: 0;}#sk-container-id-1 div.sk-dashed-wrapped {border: 1px dashed gray;margin: 0 0.4em 0.5em 0.4em;box-sizing: border-box;padding-bottom: 0.4em;background-color: white;}#sk-container-id-1 div.sk-label label {font-family: monospace;font-weight: bold;display: inline-block;line-height: 1.2em;}#sk-container-id-1 div.sk-label-container {text-align: center;}#sk-container-id-1 div.sk-container {/* jupyter's `normalize.less` sets `[hidden] { display: none; }` but bootstrap.min.css set `[hidden] { display: none !important; }` so we also need the `!important` here to be able to override the default hidden behavior on the sphinx rendered scikit-learn.org. See: https://github.com/scikit-learn/scikit-learn/issues/21755 */display: inline-block !important;position: relative;}#sk-container-id-1 div.sk-text-repr-fallback {display: none;}</style><div id=\"sk-container-id-1\" class=\"sk-top-container\"><div class=\"sk-text-repr-fallback\"><pre>GridSearchCV(cv=KFold(n_splits=6, random_state=21, shuffle=True),\n",
       "             estimator=XGBRegressor(base_score=None, booster=None,\n",
       "                                    callbacks=None, colsample_bylevel=None,\n",
       "                                    colsample_bynode=None,\n",
       "                                    colsample_bytree=None, device=None,\n",
       "                                    early_stopping_rounds=None,\n",
       "                                    enable_categorical=False, eval_metric=None,\n",
       "                                    feature_types=None, gamma=None,\n",
       "                                    grow_policy=None, importance_type=None,\n",
       "                                    inte...\n",
       "                                    learning_rate=None, max_bin=None,\n",
       "                                    max_cat_threshold=None,\n",
       "                                    max_cat_to_onehot=None, max_delta_step=None,\n",
       "                                    max_depth=None, max_leaves=None,\n",
       "                                    min_child_weight=None, missing=nan,\n",
       "                                    monotone_constraints=None,\n",
       "                                    multi_strategy=None, n_estimators=None,\n",
       "                                    n_jobs=None, num_parallel_tree=None,\n",
       "                                    random_state=None, ...),\n",
       "             param_grid={&#x27;learning_rate&#x27;: [0.01, 0.1, 0.2],\n",
       "                         &#x27;max_depth&#x27;: [3, 4, 5, 7],\n",
       "                         &#x27;n_estimators&#x27;: [30, 50, 100]})</pre><b>In a Jupyter environment, please rerun this cell to show the HTML representation or trust the notebook. <br />On GitHub, the HTML representation is unable to render, please try loading this page with nbviewer.org.</b></div><div class=\"sk-container\" hidden><div class=\"sk-item sk-dashed-wrapped\"><div class=\"sk-label-container\"><div class=\"sk-label sk-toggleable\"><input class=\"sk-toggleable__control sk-hidden--visually\" id=\"sk-estimator-id-1\" type=\"checkbox\" ><label for=\"sk-estimator-id-1\" class=\"sk-toggleable__label sk-toggleable__label-arrow\">GridSearchCV</label><div class=\"sk-toggleable__content\"><pre>GridSearchCV(cv=KFold(n_splits=6, random_state=21, shuffle=True),\n",
       "             estimator=XGBRegressor(base_score=None, booster=None,\n",
       "                                    callbacks=None, colsample_bylevel=None,\n",
       "                                    colsample_bynode=None,\n",
       "                                    colsample_bytree=None, device=None,\n",
       "                                    early_stopping_rounds=None,\n",
       "                                    enable_categorical=False, eval_metric=None,\n",
       "                                    feature_types=None, gamma=None,\n",
       "                                    grow_policy=None, importance_type=None,\n",
       "                                    inte...\n",
       "                                    learning_rate=None, max_bin=None,\n",
       "                                    max_cat_threshold=None,\n",
       "                                    max_cat_to_onehot=None, max_delta_step=None,\n",
       "                                    max_depth=None, max_leaves=None,\n",
       "                                    min_child_weight=None, missing=nan,\n",
       "                                    monotone_constraints=None,\n",
       "                                    multi_strategy=None, n_estimators=None,\n",
       "                                    n_jobs=None, num_parallel_tree=None,\n",
       "                                    random_state=None, ...),\n",
       "             param_grid={&#x27;learning_rate&#x27;: [0.01, 0.1, 0.2],\n",
       "                         &#x27;max_depth&#x27;: [3, 4, 5, 7],\n",
       "                         &#x27;n_estimators&#x27;: [30, 50, 100]})</pre></div></div></div><div class=\"sk-parallel\"><div class=\"sk-parallel-item\"><div class=\"sk-item\"><div class=\"sk-label-container\"><div class=\"sk-label sk-toggleable\"><input class=\"sk-toggleable__control sk-hidden--visually\" id=\"sk-estimator-id-2\" type=\"checkbox\" ><label for=\"sk-estimator-id-2\" class=\"sk-toggleable__label sk-toggleable__label-arrow\">estimator: XGBRegressor</label><div class=\"sk-toggleable__content\"><pre>XGBRegressor(base_score=None, booster=None, callbacks=None,\n",
       "             colsample_bylevel=None, colsample_bynode=None,\n",
       "             colsample_bytree=None, device=None, early_stopping_rounds=None,\n",
       "             enable_categorical=False, eval_metric=None, feature_types=None,\n",
       "             gamma=None, grow_policy=None, importance_type=None,\n",
       "             interaction_constraints=None, learning_rate=None, max_bin=None,\n",
       "             max_cat_threshold=None, max_cat_to_onehot=None,\n",
       "             max_delta_step=None, max_depth=None, max_leaves=None,\n",
       "             min_child_weight=None, missing=nan, monotone_constraints=None,\n",
       "             multi_strategy=None, n_estimators=None, n_jobs=None,\n",
       "             num_parallel_tree=None, random_state=None, ...)</pre></div></div></div><div class=\"sk-serial\"><div class=\"sk-item\"><div class=\"sk-estimator sk-toggleable\"><input class=\"sk-toggleable__control sk-hidden--visually\" id=\"sk-estimator-id-3\" type=\"checkbox\" ><label for=\"sk-estimator-id-3\" class=\"sk-toggleable__label sk-toggleable__label-arrow\">XGBRegressor</label><div class=\"sk-toggleable__content\"><pre>XGBRegressor(base_score=None, booster=None, callbacks=None,\n",
       "             colsample_bylevel=None, colsample_bynode=None,\n",
       "             colsample_bytree=None, device=None, early_stopping_rounds=None,\n",
       "             enable_categorical=False, eval_metric=None, feature_types=None,\n",
       "             gamma=None, grow_policy=None, importance_type=None,\n",
       "             interaction_constraints=None, learning_rate=None, max_bin=None,\n",
       "             max_cat_threshold=None, max_cat_to_onehot=None,\n",
       "             max_delta_step=None, max_depth=None, max_leaves=None,\n",
       "             min_child_weight=None, missing=nan, monotone_constraints=None,\n",
       "             multi_strategy=None, n_estimators=None, n_jobs=None,\n",
       "             num_parallel_tree=None, random_state=None, ...)</pre></div></div></div></div></div></div></div></div></div></div>"
      ],
      "text/plain": [
       "GridSearchCV(cv=KFold(n_splits=6, random_state=21, shuffle=True),\n",
       "             estimator=XGBRegressor(base_score=None, booster=None,\n",
       "                                    callbacks=None, colsample_bylevel=None,\n",
       "                                    colsample_bynode=None,\n",
       "                                    colsample_bytree=None, device=None,\n",
       "                                    early_stopping_rounds=None,\n",
       "                                    enable_categorical=False, eval_metric=None,\n",
       "                                    feature_types=None, gamma=None,\n",
       "                                    grow_policy=None, importance_type=None,\n",
       "                                    inte...\n",
       "                                    learning_rate=None, max_bin=None,\n",
       "                                    max_cat_threshold=None,\n",
       "                                    max_cat_to_onehot=None, max_delta_step=None,\n",
       "                                    max_depth=None, max_leaves=None,\n",
       "                                    min_child_weight=None, missing=nan,\n",
       "                                    monotone_constraints=None,\n",
       "                                    multi_strategy=None, n_estimators=None,\n",
       "                                    n_jobs=None, num_parallel_tree=None,\n",
       "                                    random_state=None, ...),\n",
       "             param_grid={'learning_rate': [0.01, 0.1, 0.2],\n",
       "                         'max_depth': [3, 4, 5, 7],\n",
       "                         'n_estimators': [30, 50, 100]})"
      ]
     },
     "execution_count": 16,
     "metadata": {},
     "output_type": "execute_result"
    }
   ],
   "source": [
    "grid=GridSearchCV(model,param_grid,cv=kf)\n",
    "grid.fit(x_train,y_train)"
   ]
  },
  {
   "cell_type": "code",
   "execution_count": 17,
   "id": "953b902d",
   "metadata": {
    "execution": {
     "iopub.execute_input": "2024-05-16T16:54:11.570361Z",
     "iopub.status.busy": "2024-05-16T16:54:11.569982Z",
     "iopub.status.idle": "2024-05-16T16:54:11.638665Z",
     "shell.execute_reply": "2024-05-16T16:54:11.637647Z"
    },
    "executionInfo": {
     "elapsed": 350,
     "status": "ok",
     "timestamp": 1715616762294,
     "user": {
      "displayName": "Mannar Mohamed",
      "userId": "05054921162374819918"
     },
     "user_tz": -180
    },
    "id": "M49L_E1EfqFf",
    "outputId": "763c2c24-01ce-4a3a-a2b3-7e611af225d0",
    "papermill": {
     "duration": 0.083053,
     "end_time": "2024-05-16T16:54:11.641061",
     "exception": false,
     "start_time": "2024-05-16T16:54:11.558008",
     "status": "completed"
    },
    "tags": []
   },
   "outputs": [
    {
     "data": {
      "text/plain": [
       "(528.9905435926516, 413.0295749427162)"
      ]
     },
     "execution_count": 17,
     "metadata": {},
     "output_type": "execute_result"
    }
   ],
   "source": [
    "best_model=grid.best_estimator_\n",
    "y_pred=best_model.predict(x_test)\n",
    "y_pred1=best_model.predict(x_train)\n",
    "np.sqrt(mean_squared_error(y_test,y_pred)),np.sqrt(mean_squared_error(y_train,y_pred1))"
   ]
  },
  {
   "cell_type": "code",
   "execution_count": 18,
   "id": "e566526a",
   "metadata": {
    "execution": {
     "iopub.execute_input": "2024-05-16T16:54:11.664253Z",
     "iopub.status.busy": "2024-05-16T16:54:11.663871Z",
     "iopub.status.idle": "2024-05-16T16:54:12.082304Z",
     "shell.execute_reply": "2024-05-16T16:54:12.081177Z"
    },
    "executionInfo": {
     "elapsed": 735,
     "status": "ok",
     "timestamp": 1715535933083,
     "user": {
      "displayName": "Mannar Mohamed",
      "userId": "05054921162374819918"
     },
     "user_tz": -180
    },
    "id": "7f56a710",
    "outputId": "d128441d-7656-418b-e5d7-afc2f0d03166",
    "papermill": {
     "duration": 0.434432,
     "end_time": "2024-05-16T16:54:12.086083",
     "exception": false,
     "start_time": "2024-05-16T16:54:11.651651",
     "status": "completed"
    },
    "tags": []
   },
   "outputs": [
    {
     "data": {
      "image/png": "[encoded data removed]",
      "text/plain": [
       "<Figure size 1500x700 with 1 Axes>"
      ]
     },
     "metadata": {},
     "output_type": "display_data"
    }
   ],
   "source": [
    "plt.figure(figsize=(15, 7))\n",
    "plt.title('True values Vs Prediction')\n",
    "plt.scatter(y_test, y_pred,c='skyblue')\n",
    "plt.plot([min(y_test), max(y_test)], [min(y_test), max(y_test)], color='pink' ,label='Perfect Prediction Line',linestyle='--')\n",
    "plt.xlabel('True values')\n",
    "plt.ylabel('prediction Values')\n",
    "plt.legend(loc='upper left')\n",
    "plt.show()"
   ]
  },
  {
   "cell_type": "markdown",
   "id": "65a598f0",
   "metadata": {
    "id": "a6225785",
    "papermill": {
     "duration": 0.012245,
     "end_time": "2024-05-16T16:54:12.111106",
     "exception": false,
     "start_time": "2024-05-16T16:54:12.098861",
     "status": "completed"
    },
    "tags": []
   },
   "source": [
    "## Evaluation"
   ]
  },
  {
   "cell_type": "code",
   "execution_count": 19,
   "id": "a295e85a",
   "metadata": {
    "execution": {
     "iopub.execute_input": "2024-05-16T16:54:12.137918Z",
     "iopub.status.busy": "2024-05-16T16:54:12.137505Z",
     "iopub.status.idle": "2024-05-16T16:54:12.167202Z",
     "shell.execute_reply": "2024-05-16T16:54:12.166079Z"
    },
    "id": "e1cc7fda",
    "papermill": {
     "duration": 0.045999,
     "end_time": "2024-05-16T16:54:12.169686",
     "exception": false,
     "start_time": "2024-05-16T16:54:12.123687",
     "status": "completed"
    },
    "tags": []
   },
   "outputs": [],
   "source": [
    "test_data=pd.read_csv('/kaggle/input/diamond-price-prediciton-2024/test.csv')"
   ]
  },
  {
   "cell_type": "code",
   "execution_count": 20,
   "id": "c27a54c2",
   "metadata": {
    "execution": {
     "iopub.execute_input": "2024-05-16T16:54:12.197407Z",
     "iopub.status.busy": "2024-05-16T16:54:12.196451Z",
     "iopub.status.idle": "2024-05-16T16:54:12.211167Z",
     "shell.execute_reply": "2024-05-16T16:54:12.209868Z"
    },
    "id": "aed1aa2f",
    "papermill": {
     "duration": 0.031386,
     "end_time": "2024-05-16T16:54:12.213689",
     "exception": false,
     "start_time": "2024-05-16T16:54:12.182303",
     "status": "completed"
    },
    "tags": []
   },
   "outputs": [],
   "source": [
    "test_data['cut']=encoder.fit_transform(test_data['cut'])\n",
    "test_data['color']=encoder.fit_transform(test_data['color'])\n",
    "test_data['clarity']=encoder.fit_transform(test_data['clarity'])"
   ]
  },
  {
   "cell_type": "code",
   "execution_count": 21,
   "id": "24e65aff",
   "metadata": {
    "execution": {
     "iopub.execute_input": "2024-05-16T16:54:12.241032Z",
     "iopub.status.busy": "2024-05-16T16:54:12.240644Z",
     "iopub.status.idle": "2024-05-16T16:54:12.260872Z",
     "shell.execute_reply": "2024-05-16T16:54:12.259730Z"
    },
    "executionInfo": {
     "elapsed": 25,
     "status": "ok",
     "timestamp": 1715535933540,
     "user": {
      "displayName": "Mannar Mohamed",
      "userId": "05054921162374819918"
     },
     "user_tz": -180
    },
    "id": "ce94ddfa",
    "outputId": "0b3af951-109a-4cd1-9b1d-8ae8c8c1d38b",
    "papermill": {
     "duration": 0.036825,
     "end_time": "2024-05-16T16:54:12.263258",
     "exception": false,
     "start_time": "2024-05-16T16:54:12.226433",
     "status": "completed"
    },
    "tags": []
   },
   "outputs": [
    {
     "data": {
      "text/html": [
       "<div>\n",
       "<style scoped>\n",
       "    .dataframe tbody tr th:only-of-type {\n",
       "        vertical-align: middle;\n",
       "    }\n",
       "\n",
       "    .dataframe tbody tr th {\n",
       "        vertical-align: top;\n",
       "    }\n",
       "\n",
       "    .dataframe thead th {\n",
       "        text-align: right;\n",
       "    }\n",
       "</style>\n",
       "<table border=\"1\" class=\"dataframe\">\n",
       "  <thead>\n",
       "    <tr style=\"text-align: right;\">\n",
       "      <th></th>\n",
       "      <th>Id</th>\n",
       "      <th>carat</th>\n",
       "      <th>cut</th>\n",
       "      <th>color</th>\n",
       "      <th>clarity</th>\n",
       "      <th>depth</th>\n",
       "      <th>table</th>\n",
       "      <th>x</th>\n",
       "      <th>y</th>\n",
       "      <th>z</th>\n",
       "    </tr>\n",
       "  </thead>\n",
       "  <tbody>\n",
       "    <tr>\n",
       "      <th>0</th>\n",
       "      <td>1</td>\n",
       "      <td>0.34</td>\n",
       "      <td>2</td>\n",
       "      <td>3</td>\n",
       "      <td>7</td>\n",
       "      <td>61.1</td>\n",
       "      <td>57.0</td>\n",
       "      <td>4.52</td>\n",
       "      <td>4.48</td>\n",
       "      <td>2.75</td>\n",
       "    </tr>\n",
       "    <tr>\n",
       "      <th>1</th>\n",
       "      <td>2</td>\n",
       "      <td>0.71</td>\n",
       "      <td>3</td>\n",
       "      <td>1</td>\n",
       "      <td>5</td>\n",
       "      <td>62.7</td>\n",
       "      <td>58.0</td>\n",
       "      <td>5.74</td>\n",
       "      <td>5.68</td>\n",
       "      <td>3.58</td>\n",
       "    </tr>\n",
       "    <tr>\n",
       "      <th>2</th>\n",
       "      <td>3</td>\n",
       "      <td>0.44</td>\n",
       "      <td>4</td>\n",
       "      <td>5</td>\n",
       "      <td>4</td>\n",
       "      <td>62.8</td>\n",
       "      <td>56.0</td>\n",
       "      <td>4.83</td>\n",
       "      <td>4.88</td>\n",
       "      <td>3.05</td>\n",
       "    </tr>\n",
       "    <tr>\n",
       "      <th>3</th>\n",
       "      <td>4</td>\n",
       "      <td>0.81</td>\n",
       "      <td>3</td>\n",
       "      <td>1</td>\n",
       "      <td>3</td>\n",
       "      <td>60.1</td>\n",
       "      <td>59.0</td>\n",
       "      <td>6.09</td>\n",
       "      <td>6.03</td>\n",
       "      <td>3.65</td>\n",
       "    </tr>\n",
       "    <tr>\n",
       "      <th>4</th>\n",
       "      <td>5</td>\n",
       "      <td>0.40</td>\n",
       "      <td>2</td>\n",
       "      <td>3</td>\n",
       "      <td>6</td>\n",
       "      <td>61.2</td>\n",
       "      <td>56.0</td>\n",
       "      <td>4.74</td>\n",
       "      <td>4.80</td>\n",
       "      <td>2.92</td>\n",
       "    </tr>\n",
       "    <tr>\n",
       "      <th>...</th>\n",
       "      <td>...</td>\n",
       "      <td>...</td>\n",
       "      <td>...</td>\n",
       "      <td>...</td>\n",
       "      <td>...</td>\n",
       "      <td>...</td>\n",
       "      <td>...</td>\n",
       "      <td>...</td>\n",
       "      <td>...</td>\n",
       "      <td>...</td>\n",
       "    </tr>\n",
       "    <tr>\n",
       "      <th>10783</th>\n",
       "      <td>10784</td>\n",
       "      <td>0.57</td>\n",
       "      <td>2</td>\n",
       "      <td>4</td>\n",
       "      <td>4</td>\n",
       "      <td>60.9</td>\n",
       "      <td>56.0</td>\n",
       "      <td>5.34</td>\n",
       "      <td>5.36</td>\n",
       "      <td>3.26</td>\n",
       "    </tr>\n",
       "    <tr>\n",
       "      <th>10784</th>\n",
       "      <td>10785</td>\n",
       "      <td>1.05</td>\n",
       "      <td>2</td>\n",
       "      <td>3</td>\n",
       "      <td>5</td>\n",
       "      <td>60.8</td>\n",
       "      <td>57.0</td>\n",
       "      <td>6.65</td>\n",
       "      <td>6.58</td>\n",
       "      <td>4.02</td>\n",
       "    </tr>\n",
       "    <tr>\n",
       "      <th>10785</th>\n",
       "      <td>10786</td>\n",
       "      <td>0.71</td>\n",
       "      <td>2</td>\n",
       "      <td>1</td>\n",
       "      <td>6</td>\n",
       "      <td>62.3</td>\n",
       "      <td>55.0</td>\n",
       "      <td>5.68</td>\n",
       "      <td>5.72</td>\n",
       "      <td>3.55</td>\n",
       "    </tr>\n",
       "    <tr>\n",
       "      <th>10786</th>\n",
       "      <td>10787</td>\n",
       "      <td>1.11</td>\n",
       "      <td>3</td>\n",
       "      <td>1</td>\n",
       "      <td>3</td>\n",
       "      <td>61.0</td>\n",
       "      <td>60.0</td>\n",
       "      <td>6.68</td>\n",
       "      <td>6.66</td>\n",
       "      <td>4.07</td>\n",
       "    </tr>\n",
       "    <tr>\n",
       "      <th>10787</th>\n",
       "      <td>10788</td>\n",
       "      <td>2.00</td>\n",
       "      <td>3</td>\n",
       "      <td>2</td>\n",
       "      <td>3</td>\n",
       "      <td>61.5</td>\n",
       "      <td>59.0</td>\n",
       "      <td>8.03</td>\n",
       "      <td>7.95</td>\n",
       "      <td>4.92</td>\n",
       "    </tr>\n",
       "  </tbody>\n",
       "</table>\n",
       "<p>10788 rows × 10 columns</p>\n",
       "</div>"
      ],
      "text/plain": [
       "          Id  carat  cut  color  clarity  depth  table     x     y     z\n",
       "0          1   0.34    2      3        7   61.1   57.0  4.52  4.48  2.75\n",
       "1          2   0.71    3      1        5   62.7   58.0  5.74  5.68  3.58\n",
       "2          3   0.44    4      5        4   62.8   56.0  4.83  4.88  3.05\n",
       "3          4   0.81    3      1        3   60.1   59.0  6.09  6.03  3.65\n",
       "4          5   0.40    2      3        6   61.2   56.0  4.74  4.80  2.92\n",
       "...      ...    ...  ...    ...      ...    ...    ...   ...   ...   ...\n",
       "10783  10784   0.57    2      4        4   60.9   56.0  5.34  5.36  3.26\n",
       "10784  10785   1.05    2      3        5   60.8   57.0  6.65  6.58  4.02\n",
       "10785  10786   0.71    2      1        6   62.3   55.0  5.68  5.72  3.55\n",
       "10786  10787   1.11    3      1        3   61.0   60.0  6.68  6.66  4.07\n",
       "10787  10788   2.00    3      2        3   61.5   59.0  8.03  7.95  4.92\n",
       "\n",
       "[10788 rows x 10 columns]"
      ]
     },
     "execution_count": 21,
     "metadata": {},
     "output_type": "execute_result"
    }
   ],
   "source": [
    "test_data"
   ]
  },
  {
   "cell_type": "code",
   "execution_count": 22,
   "id": "c77ca36e",
   "metadata": {
    "execution": {
     "iopub.execute_input": "2024-05-16T16:54:12.291369Z",
     "iopub.status.busy": "2024-05-16T16:54:12.290449Z",
     "iopub.status.idle": "2024-05-16T16:54:12.310052Z",
     "shell.execute_reply": "2024-05-16T16:54:12.309009Z"
    },
    "executionInfo": {
     "elapsed": 21,
     "status": "ok",
     "timestamp": 1715535933540,
     "user": {
      "displayName": "Mannar Mohamed",
      "userId": "05054921162374819918"
     },
     "user_tz": -180
    },
    "id": "e572910e",
    "outputId": "dab7ee9b-92ac-4cc1-ab81-5052a635f64e",
    "papermill": {
     "duration": 0.035962,
     "end_time": "2024-05-16T16:54:12.312196",
     "exception": false,
     "start_time": "2024-05-16T16:54:12.276234",
     "status": "completed"
    },
    "tags": []
   },
   "outputs": [
    {
     "data": {
      "text/html": [
       "<div>\n",
       "<style scoped>\n",
       "    .dataframe tbody tr th:only-of-type {\n",
       "        vertical-align: middle;\n",
       "    }\n",
       "\n",
       "    .dataframe tbody tr th {\n",
       "        vertical-align: top;\n",
       "    }\n",
       "\n",
       "    .dataframe thead th {\n",
       "        text-align: right;\n",
       "    }\n",
       "</style>\n",
       "<table border=\"1\" class=\"dataframe\">\n",
       "  <thead>\n",
       "    <tr style=\"text-align: right;\">\n",
       "      <th></th>\n",
       "      <th>Id</th>\n",
       "      <th>carat</th>\n",
       "      <th>cut</th>\n",
       "      <th>color</th>\n",
       "      <th>clarity</th>\n",
       "      <th>depth</th>\n",
       "      <th>table</th>\n",
       "      <th>x</th>\n",
       "      <th>y</th>\n",
       "      <th>z</th>\n",
       "    </tr>\n",
       "  </thead>\n",
       "  <tbody>\n",
       "    <tr>\n",
       "      <th>0</th>\n",
       "      <td>1</td>\n",
       "      <td>0.34</td>\n",
       "      <td>2</td>\n",
       "      <td>3</td>\n",
       "      <td>7</td>\n",
       "      <td>61.1</td>\n",
       "      <td>57.0</td>\n",
       "      <td>4.52</td>\n",
       "      <td>4.48</td>\n",
       "      <td>2.75</td>\n",
       "    </tr>\n",
       "    <tr>\n",
       "      <th>1</th>\n",
       "      <td>2</td>\n",
       "      <td>0.71</td>\n",
       "      <td>3</td>\n",
       "      <td>1</td>\n",
       "      <td>5</td>\n",
       "      <td>62.7</td>\n",
       "      <td>58.0</td>\n",
       "      <td>5.74</td>\n",
       "      <td>5.68</td>\n",
       "      <td>3.58</td>\n",
       "    </tr>\n",
       "    <tr>\n",
       "      <th>2</th>\n",
       "      <td>3</td>\n",
       "      <td>0.44</td>\n",
       "      <td>4</td>\n",
       "      <td>5</td>\n",
       "      <td>4</td>\n",
       "      <td>62.8</td>\n",
       "      <td>56.0</td>\n",
       "      <td>4.83</td>\n",
       "      <td>4.88</td>\n",
       "      <td>3.05</td>\n",
       "    </tr>\n",
       "    <tr>\n",
       "      <th>3</th>\n",
       "      <td>4</td>\n",
       "      <td>0.81</td>\n",
       "      <td>3</td>\n",
       "      <td>1</td>\n",
       "      <td>3</td>\n",
       "      <td>60.1</td>\n",
       "      <td>59.0</td>\n",
       "      <td>6.09</td>\n",
       "      <td>6.03</td>\n",
       "      <td>3.65</td>\n",
       "    </tr>\n",
       "    <tr>\n",
       "      <th>4</th>\n",
       "      <td>5</td>\n",
       "      <td>0.40</td>\n",
       "      <td>2</td>\n",
       "      <td>3</td>\n",
       "      <td>6</td>\n",
       "      <td>61.2</td>\n",
       "      <td>56.0</td>\n",
       "      <td>4.74</td>\n",
       "      <td>4.80</td>\n",
       "      <td>2.92</td>\n",
       "    </tr>\n",
       "    <tr>\n",
       "      <th>...</th>\n",
       "      <td>...</td>\n",
       "      <td>...</td>\n",
       "      <td>...</td>\n",
       "      <td>...</td>\n",
       "      <td>...</td>\n",
       "      <td>...</td>\n",
       "      <td>...</td>\n",
       "      <td>...</td>\n",
       "      <td>...</td>\n",
       "      <td>...</td>\n",
       "    </tr>\n",
       "    <tr>\n",
       "      <th>10783</th>\n",
       "      <td>10784</td>\n",
       "      <td>0.57</td>\n",
       "      <td>2</td>\n",
       "      <td>4</td>\n",
       "      <td>4</td>\n",
       "      <td>60.9</td>\n",
       "      <td>56.0</td>\n",
       "      <td>5.34</td>\n",
       "      <td>5.36</td>\n",
       "      <td>3.26</td>\n",
       "    </tr>\n",
       "    <tr>\n",
       "      <th>10784</th>\n",
       "      <td>10785</td>\n",
       "      <td>1.05</td>\n",
       "      <td>2</td>\n",
       "      <td>3</td>\n",
       "      <td>5</td>\n",
       "      <td>60.8</td>\n",
       "      <td>57.0</td>\n",
       "      <td>6.65</td>\n",
       "      <td>6.58</td>\n",
       "      <td>4.02</td>\n",
       "    </tr>\n",
       "    <tr>\n",
       "      <th>10785</th>\n",
       "      <td>10786</td>\n",
       "      <td>0.71</td>\n",
       "      <td>2</td>\n",
       "      <td>1</td>\n",
       "      <td>6</td>\n",
       "      <td>62.3</td>\n",
       "      <td>55.0</td>\n",
       "      <td>5.68</td>\n",
       "      <td>5.72</td>\n",
       "      <td>3.55</td>\n",
       "    </tr>\n",
       "    <tr>\n",
       "      <th>10786</th>\n",
       "      <td>10787</td>\n",
       "      <td>1.11</td>\n",
       "      <td>3</td>\n",
       "      <td>1</td>\n",
       "      <td>3</td>\n",
       "      <td>61.0</td>\n",
       "      <td>60.0</td>\n",
       "      <td>6.68</td>\n",
       "      <td>6.66</td>\n",
       "      <td>4.07</td>\n",
       "    </tr>\n",
       "    <tr>\n",
       "      <th>10787</th>\n",
       "      <td>10788</td>\n",
       "      <td>2.00</td>\n",
       "      <td>3</td>\n",
       "      <td>2</td>\n",
       "      <td>3</td>\n",
       "      <td>61.5</td>\n",
       "      <td>59.0</td>\n",
       "      <td>8.03</td>\n",
       "      <td>7.95</td>\n",
       "      <td>4.92</td>\n",
       "    </tr>\n",
       "  </tbody>\n",
       "</table>\n",
       "<p>10788 rows × 10 columns</p>\n",
       "</div>"
      ],
      "text/plain": [
       "          Id  carat  cut  color  clarity  depth  table     x     y     z\n",
       "0          1   0.34    2      3        7   61.1   57.0  4.52  4.48  2.75\n",
       "1          2   0.71    3      1        5   62.7   58.0  5.74  5.68  3.58\n",
       "2          3   0.44    4      5        4   62.8   56.0  4.83  4.88  3.05\n",
       "3          4   0.81    3      1        3   60.1   59.0  6.09  6.03  3.65\n",
       "4          5   0.40    2      3        6   61.2   56.0  4.74  4.80  2.92\n",
       "...      ...    ...  ...    ...      ...    ...    ...   ...   ...   ...\n",
       "10783  10784   0.57    2      4        4   60.9   56.0  5.34  5.36  3.26\n",
       "10784  10785   1.05    2      3        5   60.8   57.0  6.65  6.58  4.02\n",
       "10785  10786   0.71    2      1        6   62.3   55.0  5.68  5.72  3.55\n",
       "10786  10787   1.11    3      1        3   61.0   60.0  6.68  6.66  4.07\n",
       "10787  10788   2.00    3      2        3   61.5   59.0  8.03  7.95  4.92\n",
       "\n",
       "[10788 rows x 10 columns]"
      ]
     },
     "execution_count": 22,
     "metadata": {},
     "output_type": "execute_result"
    }
   ],
   "source": [
    "test_data"
   ]
  },
  {
   "cell_type": "markdown",
   "id": "8467bc00",
   "metadata": {
    "id": "d66b6e13",
    "papermill": {
     "duration": 0.012981,
     "end_time": "2024-05-16T16:54:12.338410",
     "exception": false,
     "start_time": "2024-05-16T16:54:12.325429",
     "status": "completed"
    },
    "tags": []
   },
   "source": [
    "## Submit the solution"
   ]
  },
  {
   "cell_type": "code",
   "execution_count": 23,
   "id": "e3f906f3",
   "metadata": {
    "execution": {
     "iopub.execute_input": "2024-05-16T16:54:12.429019Z",
     "iopub.status.busy": "2024-05-16T16:54:12.428538Z",
     "iopub.status.idle": "2024-05-16T16:54:12.455355Z",
     "shell.execute_reply": "2024-05-16T16:54:12.454348Z"
    },
    "id": "274f6d3b",
    "papermill": {
     "duration": 0.106076,
     "end_time": "2024-05-16T16:54:12.457829",
     "exception": false,
     "start_time": "2024-05-16T16:54:12.351753",
     "status": "completed"
    },
    "tags": []
   },
   "outputs": [],
   "source": [
    "sub=pd.DataFrame()\n",
    "price=best_model.predict(test_data.drop('Id',axis=1))\n",
    "sub['Id']=test_data['Id']\n",
    "sub['price']=price"
   ]
  },
  {
   "cell_type": "code",
   "execution_count": 24,
   "id": "40c944fd",
   "metadata": {
    "execution": {
     "iopub.execute_input": "2024-05-16T16:54:12.486471Z",
     "iopub.status.busy": "2024-05-16T16:54:12.486075Z",
     "iopub.status.idle": "2024-05-16T16:54:12.510729Z",
     "shell.execute_reply": "2024-05-16T16:54:12.509633Z"
    },
    "id": "bbeea93e",
    "papermill": {
     "duration": 0.042133,
     "end_time": "2024-05-16T16:54:12.513323",
     "exception": false,
     "start_time": "2024-05-16T16:54:12.471190",
     "status": "completed"
    },
    "tags": []
   },
   "outputs": [],
   "source": [
    "sub.to_csv('D:\\MLdatasets\\Submission.csv',index=None)"
   ]
  },
  {
   "cell_type": "code",
   "execution_count": null,
   "id": "35353c33",
   "metadata": {
    "id": "bkl3LLjm7DpT",
    "papermill": {
     "duration": 0.013003,
     "end_time": "2024-05-16T16:54:12.539810",
     "exception": false,
     "start_time": "2024-05-16T16:54:12.526807",
     "status": "completed"
    },
    "tags": []
   },
   "outputs": [],
   "source": []
  },
  {
   "cell_type": "markdown",
   "id": "7542dc68",
   "metadata": {
    "id": "CqIqBYnV7FqV",
    "papermill": {
     "duration": 0.013111,
     "end_time": "2024-05-16T16:54:12.566262",
     "exception": false,
     "start_time": "2024-05-16T16:54:12.553151",
     "status": "completed"
    },
    "tags": []
   },
   "source": [
    "## Save Model"
   ]
  },
  {
   "cell_type": "code",
   "execution_count": 25,
   "id": "9f8742cd",
   "metadata": {
    "execution": {
     "iopub.execute_input": "2024-05-16T16:54:12.594652Z",
     "iopub.status.busy": "2024-05-16T16:54:12.594234Z",
     "iopub.status.idle": "2024-05-16T16:54:12.598921Z",
     "shell.execute_reply": "2024-05-16T16:54:12.597938Z"
    },
    "executionInfo": {
     "elapsed": 3,
     "status": "ok",
     "timestamp": 1715616787620,
     "user": {
      "displayName": "Mannar Mohamed",
      "userId": "05054921162374819918"
     },
     "user_tz": -180
    },
    "id": "mbrnLs2R7GEi",
    "papermill": {
     "duration": 0.02153,
     "end_time": "2024-05-16T16:54:12.601179",
     "exception": false,
     "start_time": "2024-05-16T16:54:12.579649",
     "status": "completed"
    },
    "tags": []
   },
   "outputs": [],
   "source": [
    "import pickle"
   ]
  },
  {
   "cell_type": "code",
   "execution_count": 26,
   "id": "9116c5f1",
   "metadata": {
    "execution": {
     "iopub.execute_input": "2024-05-16T16:54:12.630056Z",
     "iopub.status.busy": "2024-05-16T16:54:12.629680Z",
     "iopub.status.idle": "2024-05-16T16:54:12.640626Z",
     "shell.execute_reply": "2024-05-16T16:54:12.639707Z"
    },
    "executionInfo": {
     "elapsed": 2,
     "status": "ok",
     "timestamp": 1715616789554,
     "user": {
      "displayName": "Mannar Mohamed",
      "userId": "05054921162374819918"
     },
     "user_tz": -180
    },
    "id": "L8eM9kY_7Iw0",
    "papermill": {
     "duration": 0.028215,
     "end_time": "2024-05-16T16:54:12.642921",
     "exception": false,
     "start_time": "2024-05-16T16:54:12.614706",
     "status": "completed"
    },
    "tags": []
   },
   "outputs": [],
   "source": [
    "with open('XGregressor.sav','wb') as f:\n",
    "      pickle.dump(best_model,f)"
   ]
  },
  {
   "cell_type": "code",
   "execution_count": null,
   "id": "12344be8",
   "metadata": {
    "id": "mea-jR5b7zpV",
    "papermill": {
     "duration": 0.013147,
     "end_time": "2024-05-16T16:54:12.669785",
     "exception": false,
     "start_time": "2024-05-16T16:54:12.656638",
     "status": "completed"
    },
    "tags": []
   },
   "outputs": [],
   "source": []
  }
 ],
 "metadata": {
  "colab": {
   "provenance": []
  },
  "kaggle": {
   "accelerator": "none",
   "dataSources": [
    {
     "databundleVersionId": 8457230,
     "sourceId": 77458,
     "sourceType": "competition"
    }
   ],
   "isGpuEnabled": false,
   "isInternetEnabled": true,
   "language": "python",
   "sourceType": "notebook"
  },
  "kernelspec": {
   "display_name": "Python 3 (ipykernel)",
   "language": "python",
   "name": "python3"
  },
  "language_info": {
   "codemirror_mode": {
    "name": "ipython",
    "version": 3
   },
   "file_extension": ".py",
   "mimetype": "text/x-python",
   "name": "python",
   "nbconvert_exporter": "python",
   "pygments_lexer": "ipython3",
   "version": "3.11.4"
  },
  "papermill": {
   "default_parameters": {},
   "duration": 119.543904,
   "end_time": "2024-05-16T16:54:13.305016",
   "environment_variables": {},
   "exception": null,
   "input_path": "__notebook__.ipynb",
   "output_path": "__notebook__.ipynb",
   "parameters": {},
   "start_time": "2024-05-16T16:52:13.761112",
   "version": "2.5.0"
  }
 },
 "nbformat": 4,
 "nbformat_minor": 5
}
